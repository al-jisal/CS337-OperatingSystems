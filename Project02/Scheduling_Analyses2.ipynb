{
 "cells": [
  {
   "cell_type": "markdown",
   "metadata": {},
   "source": [
    "# Abstract:"
   ]
  },
  {
   "cell_type": "markdown",
   "metadata": {},
   "source": [
    "\n",
    "This project focuses on the implementation of preemptive CPU Scheduling Algorithms: Round Robin, Shortest Remaining Time, and Preemptive Priority.\n",
    "The CPU scheduling aspects of an Operating System kernel is also simulated here. These algorithms are ran on the simulated kernel to generate statistics about their efficiencies in terms of wait time, turnaround time, and response time. Concepts such as fairness and starvation with respect to each algorithm are explored, backing the exploration with numbers, statistics, and visualizations.\n"
   ]
  },
  {
   "cell_type": "markdown",
   "metadata": {},
   "source": [
    "# Results:"
   ]
  },
  {
   "cell_type": "code",
   "execution_count": null,
   "metadata": {},
   "outputs": [],
   "source": [
    "import pandas as pd\n",
    "import random\n",
    "import plotly.express as px\n",
    "import operating_system\n",
    "import scheduler\n",
    "import process"
   ]
  },
  {
   "cell_type": "markdown",
   "metadata": {},
   "source": [
    "### Testing Round Robin Algorithm"
   ]
  },
  {
   "cell_type": "markdown",
   "metadata": {},
   "source": [
    "# Discussions"
   ]
  },
  {
   "cell_type": "markdown",
   "metadata": {},
   "source": [
    "# Extension(s)"
   ]
  },
  {
   "cell_type": "markdown",
   "metadata": {},
   "source": [
    "# References/Acknowledgements"
   ]
  }
 ],
 "metadata": {
  "language_info": {
   "name": "python"
  }
 },
 "nbformat": 4,
 "nbformat_minor": 2
}
