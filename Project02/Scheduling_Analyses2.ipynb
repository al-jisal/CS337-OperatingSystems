{
 "cells": [
  {
   "cell_type": "markdown",
   "metadata": {},
   "source": [
    "# Abstract:"
   ]
  },
  {
   "cell_type": "markdown",
   "metadata": {},
   "source": [
    "\n",
    "This project focuses on the implementation of preemptive CPU Scheduling Algorithms: Round Robin, Shortest Remaining Time, and Preemptive Priority.\n",
    "The CPU scheduling aspects of an Operating System kernel is also simulated here. These algorithms are ran on the simulated kernel to generate statistics about their efficiencies in terms of wait time, turnaround time, and response time. Concepts such as fairness and starvation with respect to each algorithm are explored, backing the exploration with numbers, statistics, and visualizations.\n"
   ]
  },
  {
   "cell_type": "markdown",
   "metadata": {},
   "source": [
    "# Results:"
   ]
  },
  {
   "cell_type": "code",
   "execution_count": null,
   "metadata": {},
   "outputs": [],
   "source": [
    "import pandas as pd\n",
    "import random\n",
    "import plotly.express as px\n",
    "import operating_system\n",
    "import scheduler\n",
    "import process"
   ]
  },
  {
   "cell_type": "markdown",
   "metadata": {},
   "source": [
    "### Testing Round Robin Algorithm"
   ]
  },
  {
   "cell_type": "code",
   "execution_count": null,
   "metadata": {},
   "outputs": [],
   "source": [
    "test_processes1 = []\n",
    "\n",
    "# creating processes\n",
    "process0 = process.Process(0, # ID\n",
    "                           [5, 1, 7], # duty\n",
    "                           0, # arrival time\n",
    "                           30) # priority\n",
    "process1 = process.Process(1, [4, 4, 2], 2, 35)\n",
    "process2 = process.Process(2, [1, 6, 2], 5, 36)\n",
    "process3 = process.Process(3, [6, 1, 5], 6, 20)\n",
    "\n",
    "test_processes1.append(process0)\n",
    "test_processes1.append(process1)\n",
    "test_processes1.append(process2)\n",
    "test_processes1.append(process3)"
   ]
  },
  {
   "cell_type": "code",
   "execution_count": null,
   "metadata": {},
   "outputs": [],
   "source": [
    "dp = operating_system.kernel(scheduler.RR_scheduler, test_processes1, \"rr_test.csv\", 2)\n",
    "\n",
    "average_response_time = dp[\"response time\"].mean(axis=0)\n",
    "average_wait_time = dp[\"wait time\"].mean(axis=0)\n",
    "average_turnaround_time = dp[\"turnaround time\"].mean(axis=0)"
   ]
  },
  {
   "cell_type": "code",
   "execution_count": null,
   "metadata": {},
   "outputs": [],
   "source": [
    "df = pd.read_csv(\"rr_test.csv\")\n",
    "df.head()"
   ]
  },
  {
   "cell_type": "code",
   "execution_count": null,
   "metadata": {},
   "outputs": [],
   "source": [
    "dp.head()"
   ]
  },
  {
   "cell_type": "code",
   "execution_count": null,
   "metadata": {},
   "outputs": [],
   "source": [
    "print(f\"RR has an average response time of {average_response_time}\")\n",
    "print(f\"RR has an average wait time of {average_wait_time}\")\n",
    "print(f\"RR has an average turnaround time of {average_turnaround_time}\")"
   ]
  },
  {
   "cell_type": "code",
   "execution_count": null,
   "metadata": {},
   "outputs": [],
   "source": [
    "fig = px.timeline(df, x_start=\"Start\", x_end=\"Finish\", y=\"process\", color=\"Priority\")\n",
    "\n",
    "df['delta'] = df['Finish'] - df['Start']\n",
    "fig.layout.xaxis.type = 'linear'\n",
    "fig.data[0].x = df.delta.tolist()\n",
    "fig.data[0].base = df.Start.tolist()\n",
    "fig.show()"
   ]
  },
  {
   "cell_type": "markdown",
   "metadata": {},
   "source": [
    "### Testing Shortest Remaining Time Algorithm "
   ]
  },
  {
   "cell_type": "code",
   "execution_count": null,
   "metadata": {},
   "outputs": [],
   "source": [
    "test_processes2 = []\n",
    "\n",
    "# creating processes\n",
    "process0 = process.Process(0, # ID\n",
    "                           [5, 1, 7], # duty\n",
    "                           0, # arrival time\n",
    "                           30) # priority\n",
    "process1 = process.Process(1, [4, 4, 2], 2, 35)\n",
    "process2 = process.Process(2, [1, 6, 2], 5, 36)\n",
    "process3 = process.Process(3, [6, 1, 5], 6, 20)\n",
    "\n",
    "test_processes2.append(process0)\n",
    "test_processes2.append(process1)\n",
    "test_processes2.append(process2)\n",
    "test_processes2.append(process3)"
   ]
  },
  {
   "cell_type": "code",
   "execution_count": null,
   "metadata": {},
   "outputs": [],
   "source": [
    "dp = operating_system.kernel(scheduler.SRT_scheduler, test_processes2, \"srt_test.csv\")\n",
    "\n",
    "average_response_time = dp[\"response time\"].mean(axis=0)\n",
    "average_wait_time = dp[\"wait time\"].mean(axis=0)\n",
    "average_turnaround_time = dp[\"turnaround time\"].mean(axis=0)"
   ]
  },
  {
   "cell_type": "code",
   "execution_count": null,
   "metadata": {},
   "outputs": [],
   "source": [
    "df = pd.read_csv(\"srt_test.csv\")\n",
    "df.head()"
   ]
  },
  {
   "cell_type": "code",
   "execution_count": null,
   "metadata": {},
   "outputs": [],
   "source": [
    "dp.head()"
   ]
  },
  {
   "cell_type": "code",
   "execution_count": null,
   "metadata": {},
   "outputs": [],
   "source": [
    "\n",
    "print(f\"SRT has an average response time of {average_response_time}\")\n",
    "print(f\"SRT has an average wait time of {average_wait_time}\")\n",
    "print(f\"SRT has an average turnaround time of {average_turnaround_time}\")"
   ]
  },
  {
   "cell_type": "code",
   "execution_count": null,
   "metadata": {},
   "outputs": [],
   "source": [
    "fig = px.timeline(df, x_start=\"Start\", x_end=\"Finish\", y=\"process\", color=\"Priority\")\n",
    "\n",
    "df['delta'] = df['Finish'] - df['Start']\n",
    "fig.layout.xaxis.type = 'linear'\n",
    "fig.data[0].x = df.delta.tolist()\n",
    "fig.data[0].base = df.Start.tolist()\n",
    "fig.show()"
   ]
  },
  {
   "cell_type": "markdown",
   "metadata": {},
   "source": [
    "### Testing Preemptive Priority Algorithm"
   ]
  },
  {
   "cell_type": "code",
   "execution_count": null,
   "metadata": {},
   "outputs": [],
   "source": [
    "test_processes3 = []\n",
    "\n",
    "# creating processes\n",
    "process0 = process.Process(0, # ID\n",
    "                           [5, 1, 7], # duty\n",
    "                           0, # arrival time\n",
    "                           30) # priority\n",
    "process1 = process.Process(1, [4, 4, 2], 2, 35)\n",
    "process2 = process.Process(2, [1, 6, 2], 5, 36)\n",
    "process3 = process.Process(3, [6, 1, 5], 6, 20)\n",
    "\n",
    "test_processes3.append(process0)\n",
    "test_processes3.append(process1)\n",
    "test_processes3.append(process2)\n",
    "test_processes3.append(process3)"
   ]
  },
  {
   "cell_type": "code",
   "execution_count": null,
   "metadata": {},
   "outputs": [],
   "source": [
    "dp = operating_system.kernel(scheduler.PP_scheduler, test_processes3, \"pp_test.csv\")\n",
    "\n",
    "average_response_time = dp[\"response time\"].mean(axis=0)\n",
    "average_wait_time = dp[\"wait time\"].mean(axis=0)\n",
    "average_turnaround_time = dp[\"turnaround time\"].mean(axis=0)"
   ]
  },
  {
   "cell_type": "code",
   "execution_count": null,
   "metadata": {},
   "outputs": [],
   "source": [
    "df = pd.read_csv(\"pp_test.csv\")\n",
    "df.head()"
   ]
  },
  {
   "cell_type": "code",
   "execution_count": null,
   "metadata": {},
   "outputs": [],
   "source": [
    "dp.head()"
   ]
  },
  {
   "cell_type": "code",
   "execution_count": null,
   "metadata": {},
   "outputs": [],
   "source": [
    "print(f\"PP has an average response time of {average_response_time}\")\n",
    "print(f\"PP has an average wait time of {average_wait_time}\")\n",
    "print(f\"PP has an average turnaround time of {average_turnaround_time}\")"
   ]
  },
  {
   "cell_type": "code",
   "execution_count": null,
   "metadata": {},
   "outputs": [],
   "source": [
    "fig = px.timeline(df, x_start=\"Start\", x_end=\"Finish\", y=\"process\", color=\"Priority\")\n",
    "\n",
    "df['delta'] = df['Finish'] - df['Start']\n",
    "fig.layout.xaxis.type = 'linear'\n",
    "fig.data[0].x = df.delta.tolist()\n",
    "fig.data[0].base = df.Start.tolist()\n",
    "fig.show()"
   ]
  },
  {
   "cell_type": "markdown",
   "metadata": {},
   "source": [
    "# Discussions"
   ]
  },
  {
   "cell_type": "markdown",
   "metadata": {},
   "source": [
    "# Extension(s)"
   ]
  },
  {
   "cell_type": "markdown",
   "metadata": {},
   "source": [
    "# References/Acknowledgements"
   ]
  }
 ],
 "metadata": {
  "kernelspec": {
   "display_name": "Python 3",
   "language": "python",
   "name": "python3"
  },
  "language_info": {
   "codemirror_mode": {
    "name": "ipython",
    "version": 3
   },
   "file_extension": ".py",
   "mimetype": "text/x-python",
   "name": "python",
   "nbconvert_exporter": "python",
   "pygments_lexer": "ipython3",
   "version": "3.10.7"
  }
 },
 "nbformat": 4,
 "nbformat_minor": 2
}
