{
 "cells": [
  {
   "cell_type": "code",
   "execution_count": 1,
   "metadata": {},
   "outputs": [],
   "source": [
    "import operating_system\n",
    "import scheduler"
   ]
  },
  {
   "cell_type": "code",
   "execution_count": 2,
   "metadata": {},
   "outputs": [
    {
     "ename": "KeyboardInterrupt",
     "evalue": "",
     "output_type": "error",
     "traceback": [
      "\u001b[0;31m---------------------------------------------------------------------------\u001b[0m",
      "\u001b[0;31mKeyboardInterrupt\u001b[0m                         Traceback (most recent call last)",
      "Cell \u001b[0;32mIn[2], line 1\u001b[0m\n\u001b[0;32m----> 1\u001b[0m \u001b[43moperating_system\u001b[49m\u001b[38;5;241;43m.\u001b[39;49m\u001b[43mkernel\u001b[49m\u001b[43m(\u001b[49m\u001b[43mscheduler\u001b[49m\u001b[38;5;241;43m.\u001b[39;49m\u001b[43mPriority_scheduler\u001b[49m\u001b[43m)\u001b[49m\n",
      "File \u001b[0;32m~/Desktop/CS337-OperatingSystems/Project01/operating_system.py:28\u001b[0m, in \u001b[0;36mkernel\u001b[0;34m(selected_scheduler, verbose)\u001b[0m\n\u001b[1;32m     25\u001b[0m scheduler\u001b[38;5;241m.\u001b[39madd_ready(processes, ready, time)\n\u001b[1;32m     27\u001b[0m \u001b[38;5;28;01mwhile\u001b[39;00m ready:\n\u001b[0;32m---> 28\u001b[0m     time \u001b[38;5;241m=\u001b[39m \u001b[43mselected_scheduler\u001b[49m\u001b[43m(\u001b[49m\u001b[43mprocesses\u001b[49m\u001b[43m,\u001b[49m\u001b[43m \u001b[49m\u001b[43mready\u001b[49m\u001b[43m,\u001b[49m\u001b[43m \u001b[49m\u001b[43mCPU\u001b[49m\u001b[43m,\u001b[49m\u001b[43m \u001b[49m\u001b[43mtime\u001b[49m\u001b[43m)\u001b[49m\n\u001b[1;32m     30\u001b[0m wait_times, turnaround_times \u001b[38;5;241m=\u001b[39m [], []\n\u001b[1;32m     31\u001b[0m \u001b[38;5;28;01mfor\u001b[39;00m item \u001b[38;5;129;01min\u001b[39;00m processes:\n",
      "\u001b[0;31mKeyboardInterrupt\u001b[0m: "
     ]
    }
   ],
   "source": [
    "operating_system.kernel(scheduler.Priority_scheduler)"
   ]
  },
  {
   "cell_type": "code",
   "execution_count": null,
   "metadata": {},
   "outputs": [],
   "source": [
    "import pandas as pd\n",
    "\n",
    "df = pd.read_csv(\"results.csv\")\n",
    "\n",
    "df.head()"
   ]
  },
  {
   "cell_type": "code",
   "execution_count": null,
   "metadata": {},
   "outputs": [],
   "source": [
    "import plotly.express as px\n",
    "\n",
    "fig = px.timeline(df, x_start=\"Start\", x_end=\"Finish\", y=\"process\", color=\"Priority\")\n",
    "\n",
    "df['delta'] = df['Finish'] - df['Start']\n",
    "fig.layout.xaxis.type = 'linear'\n",
    "fig.data[0].x = df.delta.tolist()\n",
    "fig.data[0].base = df.Start.tolist()\n",
    "fig.show()"
   ]
  },
  {
   "cell_type": "code",
   "execution_count": 1,
   "metadata": {},
   "outputs": [],
   "source": [
    "import heapq\n",
    "from scheduler import add_ready\n",
    "import process\n",
    "\n",
    "CPU, ready, processes, time = [], [], [], 0\n",
    "\n",
    "# creating processes\n",
    "process0 = process.Process(0, 5, 0, 30)\n",
    "process1 = process.Process(1, 4, 2, 35)\n",
    "process2 = process.Process(2, 1, 5, 36)\n",
    "process3 = process.Process(3, 6, 6, 20)\n",
    "\n",
    "processes.append(process0)\n",
    "processes.append(process1)\n",
    "processes.append(process2)\n",
    "processes.append(process3)\n",
    "\n",
    "add_ready(processes, ready, time)"
   ]
  },
  {
   "cell_type": "code",
   "execution_count": 4,
   "metadata": {},
   "outputs": [],
   "source": [
    "def Priority_scheduler(processes,\n",
    "                       CPU,\n",
    "                       ready,\n",
    "                       time,\n",
    "                       verbose=True):\n",
    "    \"\"\"non-preemptive Priority scheduler\"\"\"\n",
    "    # keep a ready heap of tupples (process, priority)\n",
    "    heap = [(-item.get_priority(), item) for item in ready]\n",
    "    heapq.heapify(heap)\n",
    "    print(\"This is the heap: \",heap)\n",
    "    process = heapq.heappop(heap)[1]\n",
    "    print(\"This is the process:\",process)\n",
    "    process.set_wait_time(time - process.get_arrival_time())\n",
    "    ready.remove(process)\n",
    "    start_time = time\n",
    "    \n",
    "    while process.get_burst_time() > 0:\n",
    "        process.set_burst_time(process.get_burst_time() - 1)\n",
    "        time += 1\n",
    "        add_ready(processes, ready, time)\n",
    "\n",
    "    process.set_turnaround_time(time - process.get_arrival_time())\n",
    "    end_time = time\n",
    "    CPU.append( dict(process=process.get_ID(),\n",
    "                     Start=start_time,\n",
    "                     Finish=end_time,\n",
    "                     Priority=process.get_priority()))\n",
    "    return time"
   ]
  },
  {
   "cell_type": "code",
   "execution_count": null,
   "metadata": {},
   "outputs": [],
   "source": [
    "time = Priority_scheduler(processes,\n",
    "                       CPU,\n",
    "                       ready,\n",
    "                       time,\n",
    "                       verbose=True)"
   ]
  }
 ],
 "metadata": {
  "kernelspec": {
   "display_name": "Python 3",
   "language": "python",
   "name": "python3"
  },
  "language_info": {
   "codemirror_mode": {
    "name": "ipython",
    "version": 3
   },
   "file_extension": ".py",
   "mimetype": "text/x-python",
   "name": "python",
   "nbconvert_exporter": "python",
   "pygments_lexer": "ipython3",
   "version": "3.10.7"
  }
 },
 "nbformat": 4,
 "nbformat_minor": 2
}
